{
  "nbformat": 4,
  "nbformat_minor": 0,
  "metadata": {
    "colab": {
      "provenance": []
    },
    "kernelspec": {
      "name": "python3",
      "display_name": "Python 3"
    },
    "language_info": {
      "name": "python"
    }
  },
  "cells": [
    {
      "cell_type": "markdown",
      "source": [
        "**EJEMPLO 1** \"hello world TinyML\""
      ],
      "metadata": {
        "id": "AGVsqekXmTVS"
      }
    },
    {
      "cell_type": "markdown",
      "source": [
        "IMPORTAR DEPENDENCIAS."
      ],
      "metadata": {
        "id": "xsJoj83zmN4B"
      }
    },
    {
      "cell_type": "code",
      "execution_count": null,
      "metadata": {
        "colab": {
          "base_uri": "https://localhost:8080/"
        },
        "id": "mwwQYgMXmFgn",
        "outputId": "8ebb0864-e6a0-4f7d-e9b5-b5dcbfc2e735"
      },
      "outputs": [
        {
          "output_type": "stream",
          "name": "stdout",
          "text": [
            "Requirement already satisfied: tensorflow in /usr/local/lib/python3.10/dist-packages (2.13.0)\n",
            "Requirement already satisfied: absl-py>=1.0.0 in /usr/local/lib/python3.10/dist-packages (from tensorflow) (1.4.0)\n",
            "Requirement already satisfied: astunparse>=1.6.0 in /usr/local/lib/python3.10/dist-packages (from tensorflow) (1.6.3)\n",
            "Requirement already satisfied: flatbuffers>=23.1.21 in /usr/local/lib/python3.10/dist-packages (from tensorflow) (23.5.26)\n",
            "Requirement already satisfied: gast<=0.4.0,>=0.2.1 in /usr/local/lib/python3.10/dist-packages (from tensorflow) (0.4.0)\n",
            "Requirement already satisfied: google-pasta>=0.1.1 in /usr/local/lib/python3.10/dist-packages (from tensorflow) (0.2.0)\n",
            "Requirement already satisfied: grpcio<2.0,>=1.24.3 in /usr/local/lib/python3.10/dist-packages (from tensorflow) (1.57.0)\n",
            "Requirement already satisfied: h5py>=2.9.0 in /usr/local/lib/python3.10/dist-packages (from tensorflow) (3.9.0)\n",
            "Requirement already satisfied: keras<2.14,>=2.13.1 in /usr/local/lib/python3.10/dist-packages (from tensorflow) (2.13.1)\n",
            "Requirement already satisfied: libclang>=13.0.0 in /usr/local/lib/python3.10/dist-packages (from tensorflow) (16.0.6)\n",
            "Requirement already satisfied: numpy<=1.24.3,>=1.22 in /usr/local/lib/python3.10/dist-packages (from tensorflow) (1.23.5)\n",
            "Requirement already satisfied: opt-einsum>=2.3.2 in /usr/local/lib/python3.10/dist-packages (from tensorflow) (3.3.0)\n",
            "Requirement already satisfied: packaging in /usr/local/lib/python3.10/dist-packages (from tensorflow) (23.1)\n",
            "Requirement already satisfied: protobuf!=4.21.0,!=4.21.1,!=4.21.2,!=4.21.3,!=4.21.4,!=4.21.5,<5.0.0dev,>=3.20.3 in /usr/local/lib/python3.10/dist-packages (from tensorflow) (3.20.3)\n",
            "Requirement already satisfied: setuptools in /usr/local/lib/python3.10/dist-packages (from tensorflow) (67.7.2)\n",
            "Requirement already satisfied: six>=1.12.0 in /usr/local/lib/python3.10/dist-packages (from tensorflow) (1.16.0)\n",
            "Requirement already satisfied: tensorboard<2.14,>=2.13 in /usr/local/lib/python3.10/dist-packages (from tensorflow) (2.13.0)\n",
            "Requirement already satisfied: tensorflow-estimator<2.14,>=2.13.0 in /usr/local/lib/python3.10/dist-packages (from tensorflow) (2.13.0)\n",
            "Requirement already satisfied: termcolor>=1.1.0 in /usr/local/lib/python3.10/dist-packages (from tensorflow) (2.3.0)\n",
            "Requirement already satisfied: typing-extensions<4.6.0,>=3.6.6 in /usr/local/lib/python3.10/dist-packages (from tensorflow) (4.5.0)\n",
            "Requirement already satisfied: wrapt>=1.11.0 in /usr/local/lib/python3.10/dist-packages (from tensorflow) (1.15.0)\n",
            "Requirement already satisfied: tensorflow-io-gcs-filesystem>=0.23.1 in /usr/local/lib/python3.10/dist-packages (from tensorflow) (0.33.0)\n",
            "Requirement already satisfied: wheel<1.0,>=0.23.0 in /usr/local/lib/python3.10/dist-packages (from astunparse>=1.6.0->tensorflow) (0.41.2)\n",
            "Requirement already satisfied: google-auth<3,>=1.6.3 in /usr/local/lib/python3.10/dist-packages (from tensorboard<2.14,>=2.13->tensorflow) (2.17.3)\n",
            "Requirement already satisfied: google-auth-oauthlib<1.1,>=0.5 in /usr/local/lib/python3.10/dist-packages (from tensorboard<2.14,>=2.13->tensorflow) (1.0.0)\n",
            "Requirement already satisfied: markdown>=2.6.8 in /usr/local/lib/python3.10/dist-packages (from tensorboard<2.14,>=2.13->tensorflow) (3.4.4)\n",
            "Requirement already satisfied: requests<3,>=2.21.0 in /usr/local/lib/python3.10/dist-packages (from tensorboard<2.14,>=2.13->tensorflow) (2.31.0)\n",
            "Requirement already satisfied: tensorboard-data-server<0.8.0,>=0.7.0 in /usr/local/lib/python3.10/dist-packages (from tensorboard<2.14,>=2.13->tensorflow) (0.7.1)\n",
            "Requirement already satisfied: werkzeug>=1.0.1 in /usr/local/lib/python3.10/dist-packages (from tensorboard<2.14,>=2.13->tensorflow) (2.3.7)\n",
            "Requirement already satisfied: cachetools<6.0,>=2.0.0 in /usr/local/lib/python3.10/dist-packages (from google-auth<3,>=1.6.3->tensorboard<2.14,>=2.13->tensorflow) (5.3.1)\n",
            "Requirement already satisfied: pyasn1-modules>=0.2.1 in /usr/local/lib/python3.10/dist-packages (from google-auth<3,>=1.6.3->tensorboard<2.14,>=2.13->tensorflow) (0.3.0)\n",
            "Requirement already satisfied: rsa<5,>=3.1.4 in /usr/local/lib/python3.10/dist-packages (from google-auth<3,>=1.6.3->tensorboard<2.14,>=2.13->tensorflow) (4.9)\n",
            "Requirement already satisfied: requests-oauthlib>=0.7.0 in /usr/local/lib/python3.10/dist-packages (from google-auth-oauthlib<1.1,>=0.5->tensorboard<2.14,>=2.13->tensorflow) (1.3.1)\n",
            "Requirement already satisfied: charset-normalizer<4,>=2 in /usr/local/lib/python3.10/dist-packages (from requests<3,>=2.21.0->tensorboard<2.14,>=2.13->tensorflow) (3.2.0)\n",
            "Requirement already satisfied: idna<4,>=2.5 in /usr/local/lib/python3.10/dist-packages (from requests<3,>=2.21.0->tensorboard<2.14,>=2.13->tensorflow) (3.4)\n",
            "Requirement already satisfied: urllib3<3,>=1.21.1 in /usr/local/lib/python3.10/dist-packages (from requests<3,>=2.21.0->tensorboard<2.14,>=2.13->tensorflow) (2.0.4)\n",
            "Requirement already satisfied: certifi>=2017.4.17 in /usr/local/lib/python3.10/dist-packages (from requests<3,>=2.21.0->tensorboard<2.14,>=2.13->tensorflow) (2023.7.22)\n",
            "Requirement already satisfied: MarkupSafe>=2.1.1 in /usr/local/lib/python3.10/dist-packages (from werkzeug>=1.0.1->tensorboard<2.14,>=2.13->tensorflow) (2.1.3)\n",
            "Requirement already satisfied: pyasn1<0.6.0,>=0.4.6 in /usr/local/lib/python3.10/dist-packages (from pyasn1-modules>=0.2.1->google-auth<3,>=1.6.3->tensorboard<2.14,>=2.13->tensorflow) (0.5.0)\n",
            "Requirement already satisfied: oauthlib>=3.0.0 in /usr/local/lib/python3.10/dist-packages (from requests-oauthlib>=0.7.0->google-auth-oauthlib<1.1,>=0.5->tensorboard<2.14,>=2.13->tensorflow) (3.2.2)\n"
          ]
        }
      ],
      "source": [
        "!pip install tensorflow\n",
        "import tensorflow as tf\n",
        "import numpy as np\n",
        "import matplotlib.pyplot as plt\n",
        "import math\n"
      ]
    },
    {
      "cell_type": "markdown",
      "source": [
        "**GENERAR LOS DATOS**\n",
        "\n",
        "vamos a entrenar una red para modelar datos generados por una función seno. Esto dará como resultado un modelo que puede tomar un valor, x, y predecir su seno, y."
      ],
      "metadata": {
        "id": "BS-XlpZBGZgl"
      }
    },
    {
      "cell_type": "code",
      "source": [
        "muestras=1000\n",
        "semilla =1234\n",
        "np.random.seed(semilla)\n",
        "tf.random.set_seed(semilla)\n",
        "\n",
        "x_valores = np.random.uniform(low=0, high=2*math.pi, size=muestras)\n",
        "np.random.shuffle(x_valores)\n",
        "y_valores = np.sin(x_valores)\n",
        "plt.rcParams[\"figure.figsize\"] = (10,5)\n",
        "plt.plot(x_valores, y_valores,'b.')\n",
        "plt.show()\n",
        "\n",
        "\n"
      ],
      "metadata": {
        "colab": {
          "base_uri": "https://localhost:8080/",
          "height": 445
        },
        "id": "ezxSwzatGl-H",
        "outputId": "39a88d5c-3138-4ed6-dfc2-51fada1c692c"
      },
      "execution_count": null,
      "outputs": [
        {
          "output_type": "display_data",
          "data": {
            "text/plain": [
              "<Figure size 1000x500 with 1 Axes>"
            ],
            "image/png": "[encoded data removed]"
          },
          "metadata": {}
        }
      ]
    },
    {
      "cell_type": "markdown",
      "source": [
        "**AGREGAMOS UN POCO DE RUIDO**\n",
        "\n",
        "agregamos un ruido aleatoreo a cada valor con el fin de obtener datos desordenados para comprobar la eficacia de nuestro modelo al predecir la funcion seno."
      ],
      "metadata": {
        "id": "LE9G0rAsH0KU"
      }
    },
    {
      "cell_type": "code",
      "source": [
        "y_valores += 0.1*np.random.rand(*y_valores.shape)\n",
        "plt.rcParams[\"figure.figsize\"] = (10,5)\n",
        "plt.plot(x_valores, y_valores, 'b.')\n",
        "plt.show()\n"
      ],
      "metadata": {
        "colab": {
          "base_uri": "https://localhost:8080/",
          "height": 445
        },
        "id": "KZjGMsnjIVJL",
        "outputId": "31f5b6ad-2026-4332-fd2c-f9ec39cc69a3"
      },
      "execution_count": null,
      "outputs": [
        {
          "output_type": "display_data",
          "data": {
            "text/plain": [
              "<Figure size 1000x500 with 1 Axes>"
            ],
            "image/png": "[encoded data removed]"
          },
          "metadata": {}
        }
      ]
    },
    {
      "cell_type": "markdown",
      "source": [
        "**DIVIDIR LOS DATOS**\n",
        "\n",
        "Para evaluar la precisión del modelo que entrenamos, necesitaremos comparar sus predicciones con datos reales y verificar qué tan bien coinciden. Esta evaluación ocurre durante el entrenamiento (donde se lo denomina validación) y después del entrenamiento (lo que se denomina prueba). En ambos casos, es importante que usemos datos nuevos que no se hayan usado para entrenar el modelo.\n",
        "\n",
        "Para asegurarnos de tener datos para usar en la evaluación, reservaremos algunos antes de comenzar la capacitación. Reservaremos el 20 % de nuestros datos para la validación y otro 20 % para las pruebas. El 60% restante se utilizará para entrenar el modelo. Esta es una división típica utilizada cuando se entrenan modelos.\n",
        "\n",
        "El siguiente código dividirá nuestros datos y luego trazará cada conjunto como un color diferente:"
      ],
      "metadata": {
        "id": "bUQ0CSd2NDih"
      }
    },
    {
      "cell_type": "code",
      "source": [
        "TRAIN_SPLIT = int(0.6 * muestras)\n",
        "TEST_SPLIT = int(0.2 * muestras + TRAIN_SPLIT)\n",
        "\n",
        "x_train, x_validate, x_test = np.split(x_valores,[TRAIN_SPLIT, TEST_SPLIT])\n",
        "y_train, y_validate, y_test = np.split(y_valores,[TRAIN_SPLIT, TEST_SPLIT])\n",
        "\n",
        "assert (x_train.size + x_validate.size + x_test.size)== muestras\n",
        "plt.rcParams[\"figure.figsize\"] = (10,5)\n",
        "plt.plot(x_train, y_train, 'b.', label=\"Train\")\n",
        "plt.plot(x_validate, y_validate, 'y.', label=\"Validate\")\n",
        "plt.plot(x_test, y_test, 'r.', label=\"Test\")\n",
        "plt.legend()\n",
        "plt.show()"
      ],
      "metadata": {
        "id": "d5XprP8hN4jB",
        "colab": {
          "base_uri": "https://localhost:8080/",
          "height": 445
        },
        "outputId": "b5b16701-6446-426a-8ba9-dd78f9027810"
      },
      "execution_count": null,
      "outputs": [
        {
          "output_type": "display_data",
          "data": {
            "text/plain": [
              "<Figure size 1000x500 with 1 Axes>"
            ],
            "image/png": "[encoded data removed]"
          },
          "metadata": {}
        }
      ]
    },
    {
      "cell_type": "markdown",
      "source": [
        "**Diseña un modelo**\n",
        "\n",
        "Vamos a construir un modelo que tomará un valor de entrada (en este caso, x) y lo usaremos para predecir un valor de salida numérico (el seno de x). Este tipo de problema se llama regresión.\n",
        "\n",
        "Para lograr esto, vamos a crear una red neuronal simple. Utilizará capas de neuronas para intentar aprender cualquier patrón subyacente a los datos de entrenamiento, de modo que pueda hacer predicciones.\n",
        "\n",
        "Para empezar, definiremos dos capas. La primera capa toma una sola entrada (nuestro valor x) y la ejecuta a través de 16 neuronas. Según esta entrada, cada neurona se activará hasta cierto punto en función de su estado interno (sus valores de peso y sesgo). El grado de activación de una neurona se expresa como un número.\n",
        "\n",
        "Los números de activación de nuestra primera capa se alimentarán como entradas a nuestra segunda capa, que es una sola neurona. Aplicará sus propios pesos y sesgos a estas entradas y calculará su propia activación, que se generará como nuestro valor y.\n",
        "\n",
        "Nota: Para obtener más información sobre cómo funcionan las redes neuronales, puede explorar los laboratorios de código Learn TensorFlow.\n",
        "\n",
        "El código de la siguiente celda define nuestro modelo usando Keras, la API de alto nivel de TensorFlow para crear redes de aprendizaje profundo. Una vez definida la red, la compilamos, especificando parámetros que determinan cómo será entrenada:"
      ],
      "metadata": {
        "id": "KhNrL7bXgp2n"
      }
    },
    {
      "cell_type": "code",
      "source": [
        "from tensorflow.keras import layers\n",
        "\n",
        "modelo1= tf.keras.Sequential()\n",
        "modelo1.add(layers.Dense(16, activation='relu', input_shape=(1,)))\n",
        "modelo1.add(layers.Dense(1))\n",
        "modelo1.compile(optimizer='rmsprop', loss='mse', metrics=['mae'])\n",
        "modelo1.summary()\n"
      ],
      "metadata": {
        "colab": {
          "base_uri": "https://localhost:8080/"
        },
        "id": "pu0Qw8S0gug0",
        "outputId": "0906c108-3ebc-4eae-a837-9db3a1be55e6"
      },
      "execution_count": null,
      "outputs": [
        {
          "output_type": "stream",
          "name": "stdout",
          "text": [
            "Model: \"sequential_2\"\n",
            "_________________________________________________________________\n",
            " Layer (type)                Output Shape              Param #   \n",
            "=================================================================\n",
            " dense_5 (Dense)             (None, 16)                32        \n",
            "                                                                 \n",
            " dense_6 (Dense)             (None, 1)                 17        \n",
            "                                                                 \n",
            "=================================================================\n",
            "Total params: 49 (196.00 Byte)\n",
            "Trainable params: 49 (196.00 Byte)\n",
            "Non-trainable params: 0 (0.00 Byte)\n",
            "_________________________________________________________________\n"
          ]
        }
      ]
    },
    {
      "cell_type": "markdown",
      "source": [],
      "metadata": {
        "id": "AGXmUOCriRfi"
      }
    },
    {
      "cell_type": "markdown",
      "source": [
        "**Entrenar al modelo**\n",
        "\n",
        "Una vez que hemos definido el modelo, podemos usar nuestros datos para entrenarlo. El entrenamiento consiste en pasar un valor x a la red neuronal, comprobar en qué medida se desvía la salida de la red del valor y esperado y ajustar los pesos y sesgos de las neuronas para que sea más probable que la salida sea correcta la próxima vez.\n",
        "\n",
        "El entrenamiento ejecuta este proceso en el conjunto de datos completo varias veces, y cada ejecución completa se conoce como una época. El número de épocas a ejecutar durante el entrenamiento es un parámetro que podemos configurar.\n",
        "\n",
        "Durante cada época, los datos se ejecutan a través de la red en múltiples lotes. Cada lote, varias piezas de datos se pasan a la red, produciendo valores de salida. La corrección de estas salidas se mide en conjunto y los pesos y sesgos de la red se ajustan en consecuencia, una vez por lote. El tamaño del lote también es un parámetro que podemos establecer.\n",
        "\n",
        "El código de la siguiente celda usa los valores x e y de nuestros datos de entrenamiento para entrenar el modelo. Funciona durante 1000 épocas, con 16 piezas de datos en cada lote. También pasamos algunos datos para usarlos para la validación. Como verá cuando ejecute la celda, el entrenamiento puede tardar un tiempo en completarse:"
      ],
      "metadata": {
        "id": "cNsblux1iLmd"
      }
    },
    {
      "cell_type": "code",
      "source": [
        "history_1 = modelo1.fit(x_train, y_train, epochs=800, batch_size=16, validation_data=(x_validate, y_validate))\n"
      ],
      "metadata": {
        "colab": {
          "base_uri": "https://localhost:8080/"
        },
        "id": "fEq_VJXbiSU3",
        "outputId": "bdd94c86-beae-4056-dd68-32a797b613ca"
      },
      "execution_count": null,
      "outputs": [
        {
          "output_type": "stream",
          "name": "stdout",
          "text": [
            "Epoch 1/800\n",
            "38/38 [==============================] - 1s 7ms/step - loss: 0.4227 - mae: 0.5337 - val_loss: 0.3785 - val_mae: 0.5180\n",
            "Epoch 2/800\n",
            "38/38 [==============================] - 0s 4ms/step - loss: 0.3598 - mae: 0.5143 - val_loss: 0.3499 - val_mae: 0.5003\n",
            "Epoch 3/800\n",
            "38/38 [==============================] - 0s 3ms/step - loss: 0.3336 - mae: 0.4978 - val_loss: 0.3262 - val_mae: 0.4818\n",
            "Epoch 4/800\n",
            "38/38 [==============================] - 0s 3ms/step - loss: 0.3096 - mae: 0.4795 - val_loss: 0.3032 - val_mae: 0.4658\n",
            "Epoch 5/800\n",
            "38/38 [==============================] - 0s 3ms/step - loss: 0.2873 - mae: 0.4638 - val_loss: 0.2798 - val_mae: 0.4496\n",
            "Epoch 6/800\n",
            "38/38 [==============================] - 0s 3ms/step - loss: 0.2670 - mae: 0.4510 - val_loss: 0.2632 - val_mae: 0.4363\n",
            "Epoch 7/800\n",
            "38/38 [==============================] - 0s 3ms/step - loss: 0.2495 - mae: 0.4372 - val_loss: 0.2457 - val_mae: 0.4252\n",
            "Epoch 8/800\n",
            "38/38 [==============================] - 0s 4ms/step - loss: 0.2334 - mae: 0.4253 - val_loss: 0.2320 - val_mae: 0.4154\n",
            "Epoch 9/800\n",
            "38/38 [==============================] - 0s 5ms/step - loss: 0.2206 - mae: 0.4147 - val_loss: 0.2194 - val_mae: 0.4080\n",
            "Epoch 10/800\n",
            "38/38 [==============================] - 0s 3ms/step - loss: 0.2095 - mae: 0.4058 - val_loss: 0.2101 - val_mae: 0.4013\n",
            "Epoch 11/800\n",
            "38/38 [==============================] - 0s 3ms/step - loss: 0.2011 - mae: 0.3981 - val_loss: 0.2039 - val_mae: 0.3960\n",
            "Epoch 12/800\n",
            "38/38 [==============================] - 0s 3ms/step - loss: 0.1939 - mae: 0.3914 - val_loss: 0.1964 - val_mae: 0.3925\n",
            "Epoch 13/800\n",
            "38/38 [==============================] - 0s 3ms/step - loss: 0.1886 - mae: 0.3857 - val_loss: 0.1917 - val_mae: 0.3878\n",
            "Epoch 14/800\n",
            "38/38 [==============================] - 0s 3ms/step - loss: 0.1840 - mae: 0.3803 - val_loss: 0.1895 - val_mae: 0.3837\n",
            "Epoch 15/800\n",
            "38/38 [==============================] - 0s 3ms/step - loss: 0.1807 - mae: 0.3765 - val_loss: 0.1853 - val_mae: 0.3832\n",
            "Epoch 16/800\n",
            "38/38 [==============================] - 0s 3ms/step - loss: 0.1793 - mae: 0.3748 - val_loss: 0.1842 - val_mae: 0.3797\n",
            "Epoch 17/800\n",
            "38/38 [==============================] - 0s 3ms/step - loss: 0.1770 - mae: 0.3719 - val_loss: 0.1822 - val_mae: 0.3791\n",
            "Epoch 18/800\n",
            "38/38 [==============================] - 0s 4ms/step - loss: 0.1761 - mae: 0.3707 - val_loss: 0.1812 - val_mae: 0.3781\n",
            "Epoch 19/800\n",
            "38/38 [==============================] - 0s 6ms/step - loss: 0.1755 - mae: 0.3697 - val_loss: 0.1809 - val_mae: 0.3757\n",
            "Epoch 20/800\n",
            "38/38 [==============================] - 0s 5ms/step - loss: 0.1740 - mae: 0.3671 - val_loss: 0.1795 - val_mae: 0.3747\n",
            "Epoch 21/800\n",
            "38/38 [==============================] - 0s 7ms/step - loss: 0.1738 - mae: 0.3666 - val_loss: 0.1787 - val_mae: 0.3739\n",
            "Epoch 22/800\n",
            "38/38 [==============================] - 0s 8ms/step - loss: 0.1733 - mae: 0.3654 - val_loss: 0.1795 - val_mae: 0.3728\n",
            "Epoch 23/800\n",
            "38/38 [==============================] - 0s 9ms/step - loss: 0.1715 - mae: 0.3629 - val_loss: 0.1776 - val_mae: 0.3726\n",
            "Epoch 24/800\n",
            "38/38 [==============================] - 0s 13ms/step - loss: 0.1728 - mae: 0.3643 - val_loss: 0.1777 - val_mae: 0.3709\n",
            "Epoch 25/800\n",
            "38/38 [==============================] - 0s 11ms/step - loss: 0.1715 - mae: 0.3630 - val_loss: 0.1798 - val_mae: 0.3711\n",
            "Epoch 26/800\n",
            "38/38 [==============================] - 0s 8ms/step - loss: 0.1714 - mae: 0.3617 - val_loss: 0.1768 - val_mae: 0.3693\n",
            "Epoch 27/800\n",
            "38/38 [==============================] - 0s 8ms/step - loss: 0.1714 - mae: 0.3612 - val_loss: 0.1760 - val_mae: 0.3686\n",
            "Epoch 28/800\n",
            "38/38 [==============================] - 0s 8ms/step - loss: 0.1678 - mae: 0.3574 - val_loss: 0.1753 - val_mae: 0.3680\n",
            "Epoch 29/800\n",
            "38/38 [==============================] - 0s 11ms/step - loss: 0.1701 - mae: 0.3590 - val_loss: 0.1745 - val_mae: 0.3674\n",
            "Epoch 30/800\n",
            "38/38 [==============================] - 0s 6ms/step - loss: 0.1693 - mae: 0.3582 - val_loss: 0.1740 - val_mae: 0.3667\n",
            "Epoch 31/800\n",
            "38/38 [==============================] - 0s 10ms/step - loss: 0.1698 - mae: 0.3586 - val_loss: 0.1751 - val_mae: 0.3664\n",
            "Epoch 32/800\n",
            "38/38 [==============================] - 0s 7ms/step - loss: 0.1686 - mae: 0.3574 - val_loss: 0.1754 - val_mae: 0.3662\n",
            "Epoch 33/800\n",
            "38/38 [==============================] - 0s 6ms/step - loss: 0.1680 - mae: 0.3559 - val_loss: 0.1728 - val_mae: 0.3651\n",
            "Epoch 34/800\n",
            "38/38 [==============================] - 0s 9ms/step - loss: 0.1687 - mae: 0.3574 - val_loss: 0.1739 - val_mae: 0.3647\n",
            "Epoch 35/800\n",
            "38/38 [==============================] - 0s 5ms/step - loss: 0.1679 - mae: 0.3560 - val_loss: 0.1721 - val_mae: 0.3643\n",
            "Epoch 36/800\n",
            "38/38 [==============================] - 0s 5ms/step - loss: 0.1671 - mae: 0.3550 - val_loss: 0.1728 - val_mae: 0.3638\n",
            "Epoch 37/800\n",
            "38/38 [==============================] - 0s 8ms/step - loss: 0.1669 - mae: 0.3545 - val_loss: 0.1715 - val_mae: 0.3635\n",
            "Epoch 38/800\n",
            "38/38 [==============================] - 0s 7ms/step - loss: 0.1672 - mae: 0.3538 - val_loss: 0.1713 - val_mae: 0.3631\n",
            "Epoch 39/800\n",
            "38/38 [==============================] - 0s 5ms/step - loss: 0.1667 - mae: 0.3549 - val_loss: 0.1710 - val_mae: 0.3628\n",
            "Epoch 40/800\n",
            "38/38 [==============================] - 0s 4ms/step - loss: 0.1664 - mae: 0.3536 - val_loss: 0.1734 - val_mae: 0.3631\n",
            "Epoch 41/800\n",
            "38/38 [==============================] - 0s 6ms/step - loss: 0.1666 - mae: 0.3542 - val_loss: 0.1726 - val_mae: 0.3626\n",
            "Epoch 42/800\n",
            "38/38 [==============================] - 0s 6ms/step - loss: 0.1663 - mae: 0.3532 - val_loss: 0.1740 - val_mae: 0.3629\n",
            "Epoch 43/800\n",
            "38/38 [==============================] - 0s 6ms/step - loss: 0.1666 - mae: 0.3532 - val_loss: 0.1702 - val_mae: 0.3612\n",
            "Epoch 44/800\n",
            "38/38 [==============================] - 0s 5ms/step - loss: 0.1652 - mae: 0.3520 - val_loss: 0.1698 - val_mae: 0.3609\n",
            "Epoch 45/800\n",
            "38/38 [==============================] - 0s 6ms/step - loss: 0.1658 - mae: 0.3522 - val_loss: 0.1700 - val_mae: 0.3605\n",
            "Epoch 46/800\n",
            "38/38 [==============================] - 0s 6ms/step - loss: 0.1656 - mae: 0.3515 - val_loss: 0.1695 - val_mae: 0.3605\n",
            "Epoch 47/800\n",
            "38/38 [==============================] - 0s 5ms/step - loss: 0.1657 - mae: 0.3521 - val_loss: 0.1713 - val_mae: 0.3608\n",
            "Epoch 48/800\n",
            "38/38 [==============================] - 0s 7ms/step - loss: 0.1654 - mae: 0.3506 - val_loss: 0.1691 - val_mae: 0.3598\n",
            "Epoch 49/800\n",
            "38/38 [==============================] - 0s 5ms/step - loss: 0.1651 - mae: 0.3514 - val_loss: 0.1747 - val_mae: 0.3616\n",
            "Epoch 50/800\n",
            "38/38 [==============================] - 0s 10ms/step - loss: 0.1645 - mae: 0.3490 - val_loss: 0.1705 - val_mae: 0.3610\n",
            "Epoch 51/800\n",
            "38/38 [==============================] - 0s 12ms/step - loss: 0.1661 - mae: 0.3518 - val_loss: 0.1688 - val_mae: 0.3593\n",
            "Epoch 52/800\n",
            "38/38 [==============================] - 0s 9ms/step - loss: 0.1652 - mae: 0.3503 - val_loss: 0.1697 - val_mae: 0.3593\n",
            "Epoch 53/800\n",
            "38/38 [==============================] - 0s 7ms/step - loss: 0.1649 - mae: 0.3498 - val_loss: 0.1687 - val_mae: 0.3591\n",
            "Epoch 54/800\n",
            "38/38 [==============================] - 0s 7ms/step - loss: 0.1654 - mae: 0.3513 - val_loss: 0.1702 - val_mae: 0.3591\n",
            "Epoch 55/800\n",
            "38/38 [==============================] - 0s 6ms/step - loss: 0.1646 - mae: 0.3497 - val_loss: 0.1681 - val_mae: 0.3582\n",
            "Epoch 56/800\n",
            "38/38 [==============================] - 0s 5ms/step - loss: 0.1643 - mae: 0.3500 - val_loss: 0.1691 - val_mae: 0.3584\n",
            "Epoch 57/800\n",
            "38/38 [==============================] - 0s 7ms/step - loss: 0.1639 - mae: 0.3493 - val_loss: 0.1694 - val_mae: 0.3585\n",
            "Epoch 58/800\n",
            "38/38 [==============================] - 0s 7ms/step - loss: 0.1640 - mae: 0.3495 - val_loss: 0.1692 - val_mae: 0.3593\n",
            "Epoch 59/800\n",
            "38/38 [==============================] - 0s 6ms/step - loss: 0.1648 - mae: 0.3508 - val_loss: 0.1676 - val_mae: 0.3576\n",
            "Epoch 60/800\n",
            "38/38 [==============================] - 0s 7ms/step - loss: 0.1645 - mae: 0.3490 - val_loss: 0.1675 - val_mae: 0.3575\n",
            "Epoch 61/800\n",
            "38/38 [==============================] - 0s 5ms/step - loss: 0.1624 - mae: 0.3470 - val_loss: 0.1715 - val_mae: 0.3613\n",
            "Epoch 62/800\n",
            "38/38 [==============================] - 0s 8ms/step - loss: 0.1653 - mae: 0.3510 - val_loss: 0.1672 - val_mae: 0.3573\n",
            "Epoch 63/800\n",
            "38/38 [==============================] - 0s 13ms/step - loss: 0.1632 - mae: 0.3477 - val_loss: 0.1672 - val_mae: 0.3569\n",
            "Epoch 64/800\n",
            "38/38 [==============================] - 0s 6ms/step - loss: 0.1642 - mae: 0.3488 - val_loss: 0.1670 - val_mae: 0.3569\n",
            "Epoch 65/800\n",
            "38/38 [==============================] - 0s 6ms/step - loss: 0.1643 - mae: 0.3494 - val_loss: 0.1670 - val_mae: 0.3566\n",
            "Epoch 66/800\n",
            "36/38 [===========================>..] - ETA: 0s - loss: 0.1623 - mae: 0.3473"
          ]
        }
      ]
    },
    {
      "cell_type": "markdown",
      "source": [
        "**Consulta las métricas de entrenamiento**\n",
        "\n",
        "Durante el entrenamiento, el rendimiento del modelo se mide constantemente con nuestros datos de entrenamiento y los datos de validación que reservamos anteriormente. El entrenamiento produce un registro de datos que nos dice cómo cambió el rendimiento del modelo a lo largo del proceso de entrenamiento.\n",
        "\n",
        "Las siguientes celdas mostrarán algunos de esos datos en forma gráfica:"
      ],
      "metadata": {
        "id": "F8ZfoJQojo5K"
      }
    },
    {
      "cell_type": "markdown",
      "source": [],
      "metadata": {
        "id": "QcbTP9Vej0K1"
      }
    },
    {
      "cell_type": "code",
      "source": [
        "loss= history_1.history['loss']\n",
        "val_loss= history_1.history['val_loss']\n",
        "epocas= range(1, len(loss)+1)\n",
        "plt.plot(epocas, loss, 'g.', label='Training loss')\n",
        "plt.plot(epocas, val_loss, 'b.', label='Validation loss')\n",
        "plt.xlabel('Epocas')\n",
        "plt.ylabel('loss')\n",
        "plt.legend()\n",
        "plt.show()"
      ],
      "metadata": {
        "id": "eHeQeOjLBVy1"
      },
      "execution_count": null,
      "outputs": []
    },
    {
      "cell_type": "code",
      "source": [
        "SKIP=50\n",
        "plt.plot(epocas[SKIP: ], loss[SKIP: ], 'g.', label='Training loss')\n",
        "plt.plot(epocas[SKIP: ], val_loss[SKIP: ], 'b.', label='validation loss')\n",
        "plt.xlabel('Epocas')\n",
        "plt.ylabel('Loss')\n",
        "plt.legend()\n",
        "plt.show()"
      ],
      "metadata": {
        "id": "1-ZCqzYYDQIW"
      },
      "execution_count": null,
      "outputs": []
    },
    {
      "cell_type": "markdown",
      "source": [
        "Para obtener más información sobre el rendimiento de nuestro modelo, podemos trazar algunos datos más. Esta vez, trazaremos el error absoluto medio, que es otra forma de medir qué tan lejos están las predicciones de la red de los números reales:"
      ],
      "metadata": {
        "id": "4aRnJwpTEUa8"
      }
    },
    {
      "cell_type": "code",
      "source": [
        "mae= history_1.history['mae']\n",
        "val_mae= history_1.history['val_mae']\n",
        "\n",
        "plt.plot(epocas[SKIP:], mae[SKIP: ], 'g.', label='Training mae')\n",
        "plt.plot(epocas[SKIP:], val_mae[SKIP: ], 'b.', label='validation mae')\n",
        "plt.xlabel('Epocas')\n",
        "plt.ylabel('mae')\n",
        "plt.legend()\n",
        "plt.show()"
      ],
      "metadata": {
        "id": "RjWyXPmLEWJn"
      },
      "execution_count": null,
      "outputs": []
    },
    {
      "cell_type": "markdown",
      "source": [
        "Este gráfico de error absoluto medio nos da algunas pistas adicionales. Podemos ver que las predicciones con nuestros datos de entrenamiento muestran un error consistentemente menor que con nuestros datos de validación, lo que significa que es probable que la red se haya sobreajustado o haya aprendido los datos de entrenamiento tan rígidamente que no puede hacer predicciones efectivas sobre nuevos datos.\n",
        "\n",
        "Además, los valores de error absoluto medio son bastante altos, alrededor de ~0,31, lo que significa que muchas de las predicciones del modelo tienen al menos un 31 % de error. Un error del 31% significa que estamos muy lejos de modelar con precisión la onda sinusoidal.\n",
        "\n",
        "Para obtener más información sobre lo que está sucediendo, podemos trazar las predicciones de nuestra red para los datos de entrenamiento frente a los valores esperados:"
      ],
      "metadata": {
        "id": "YspbiHNNKIoA"
      }
    },
    {
      "cell_type": "code",
      "source": [
        "prediccion= modelo1.predict(x_train)\n",
        "\n",
        "plt.clf\n",
        "plt.title('datos de entrenamiento vs datos del modelo')\n",
        "plt.plot(x_test, y_test, 'b.', label='Entrenamiento')\n",
        "plt.plot(x_train, prediccion, 'r.', label='Prediccion')\n",
        "plt.legend()\n",
        "plt.show()"
      ],
      "metadata": {
        "id": "HOCuc3pVKK-s"
      },
      "execution_count": null,
      "outputs": []
    },
    {
      "cell_type": "markdown",
      "source": [
        "Cambiar nuestro modelo\n",
        "\n",
        "Para agrandar nuestro modelo, agreguemos una capa adicional de neuronas. La siguiente celda redefine nuestro modelo de la misma manera que antes, pero con una capa adicional de 16 neuronas en el medio:"
      ],
      "metadata": {
        "id": "LNgd01S7ij5w"
      }
    },
    {
      "cell_type": "code",
      "source": [
        "modelo2 = tf.keras.Sequential()\n",
        "modelo2.add(layers.Dense(16, activation='relu', input_shape=(1,)))\n",
        "modelo2.add(layers.Dense(16, activation='relu'))\n",
        "modelo2.add(layers.Dense(1))\n",
        "modelo2.compile(optimizer='rmsprop', loss='mse', metrics=['mae'])\n",
        "modelo2.summary()\n"
      ],
      "metadata": {
        "id": "4QNjJWnsilQa"
      },
      "execution_count": null,
      "outputs": []
    },
    {
      "cell_type": "code",
      "source": [
        "history_2 = modelo2.fit(x_train, y_train, epochs=600, batch_size=16, validation_data=(x_validate, y_validate))\n"
      ],
      "metadata": {
        "id": "NCnZAIZUjKlN"
      },
      "execution_count": null,
      "outputs": []
    },
    {
      "cell_type": "code",
      "source": [
        "loss= history_2.history['loss']\n",
        "val_loss= history_2.history['val_loss']\n",
        "epocas= range(1, len(loss) + 1)\n",
        "plt.plot(epocas, loss, 'g.', label='Training loss')\n",
        "plt.plot(epocas, val_loss, 'b.', label='Validation loss')\n",
        "plt.title('Training vs validation loss')\n",
        "plt.xlabel('Epocas')\n",
        "plt.ylabel('Loss')\n",
        "plt.show()\n",
        "\n",
        "\n"
      ],
      "metadata": {
        "id": "20NN0_5Uj5Y8"
      },
      "execution_count": null,
      "outputs": []
    },
    {
      "cell_type": "code",
      "source": [
        "SKIP=100\n",
        "loss= history_2.history['loss']\n",
        "val_loss= history_2.history['val_loss']\n",
        "plt.clf()\n",
        "plt.plot(epocas[SKIP: ], loss[SKIP: ], 'g.', label='Training loss')\n",
        "plt.plot(epocas[SKIP: ], val_loss[SKIP: ], 'b.', label='Validation loss')\n",
        "plt.xlabel('Epocas')\n",
        "plt.ylabel('Loss')\n",
        "plt.legend()\n",
        "plt.show()\n",
        "\n",
        "\n",
        "plt.clf\n",
        "\n",
        "mae=history_2.history['mae']\n",
        "val_mae= history_2.history['val_mae']\n",
        "\n",
        "plt.plot(epocas[SKIP: ], mae[SKIP: ], 'g.', label='Training mae')\n",
        "plt.plot(epocas[SKIP: ], val_mae[SKIP: ], 'b.', label='Validation mae')\n",
        "plt.xlabel('Epocas')\n",
        "plt.ylabel('Mae')\n",
        "plt.legend()\n",
        "plt.show()"
      ],
      "metadata": {
        "id": "HEjbYNAfm2I4"
      },
      "execution_count": null,
      "outputs": []
    },
    {
      "cell_type": "markdown",
      "source": [
        "¡Buenos resultados! De estos gráficos, podemos ver dos cosas emocionantes:\n",
        "\n",
        "Las métricas son mejores para la validación que para el entrenamiento, lo que significa que la red no se está sobreajustando\n",
        "La pérdida general y MAE son mucho mejores que nuestra red anterior\n",
        "La razón por la que las métricas para la validación son mejores que las del entrenamiento (y no simplemente idénticas) es que las métricas de validación se calculan al final de cada época, mientras que las métricas de entrenamiento se calculan a lo largo de la época, por lo que la validación ocurre en un modelo que ha sido entrenado. ligeramente más largo.\n",
        "\n",
        "¡Todo esto significa que nuestra red parece estar funcionando bien! Para confirmar, verifiquemos sus predicciones con el conjunto de datos de prueba que reservamos anteriormente:"
      ],
      "metadata": {
        "id": "bjNxVCEjpf0C"
      }
    },
    {
      "cell_type": "code",
      "source": [
        "loss = modelo2.evaluate(x_test, y_test)\n",
        "prediccion = modelo2.predict(x_test)\n",
        "\n",
        "plt.clf()\n",
        "plt.title('Comparacion de los valores de entrada con el modelo terminado')\n",
        "plt.plot(x_test, y_test, 'b.', label='Actual')\n",
        "plt.plot(x_test, prediccion, 'r.', label='Predicted')\n",
        "plt.legend()\n",
        "plt.show()"
      ],
      "metadata": {
        "id": "dOErnIWBphDo"
      },
      "execution_count": null,
      "outputs": []
    },
    {
      "cell_type": "markdown",
      "source": [
        "¡Mucho mejor! Las métricas de evaluación que imprimimos muestran que el modelo tiene una baja pérdida y MAE en los datos de prueba, y las predicciones se alinean visualmente con nuestros datos bastante bien.\n",
        "\n",
        "El modelo no es perfecto; sus predicciones no forman una curva sinusoidal suave. Por ejemplo, la línea se vuelve casi recta cuando x está entre 4 y 5. Si quisiéramos ir más allá, podríamos intentar aumentar aún más la capacidad del modelo, tal vez usando algunas técnicas para defendernos del sobreajuste.\n",
        "\n",
        "Sin embargo, una parte importante del aprendizaje automático es saber cuándo salir, y este modelo es lo suficientemente bueno para nuestro caso de uso, que es hacer que algunos LED parpadeen en un patrón agradable."
      ],
      "metadata": {
        "id": "QsCKrKutA17a"
      }
    },
    {
      "cell_type": "markdown",
      "source": [
        "**Convertir a TensorFlow Lite**\n",
        "\n",
        "Ahora tenemos un modelo aceptablemente preciso en la memoria. Sin embargo, para usar esto con TensorFlow Lite para microcontroladores, necesitaremos convertirlo al formato correcto y descargarlo como un archivo. Para hacer esto, usaremos TensorFlow Lite Converter. El convertidor genera un archivo en un formato especial que ahorra espacio para usar en dispositivos con limitaciones de memoria.\n",
        "\n",
        "Dado que este modelo se implementará en un microcontrolador, ¡queremos que sea lo más pequeño posible! Una técnica para reducir el tamaño de los modelos se llama cuantización. Reduce la precisión de los pesos del modelo, lo que ahorra memoria, a menudo sin mucho impacto en la precisión. Los modelos cuantificados también se ejecutan más rápido, ya que los cálculos necesarios son más simples.\n",
        "\n",
        "TensorFlow Lite Converter puede aplicar cuantización mientras convierte el modelo. En la siguiente celda, convertiremos el modelo dos veces, una con cuantización y otra sin:"
      ],
      "metadata": {
        "id": "Iqod6_RYA8Nz"
      }
    },
    {
      "cell_type": "code",
      "source": [
        "\n",
        "\n",
        "\n",
        "converter = tf.lite.TFLiteConverter.from_keras_model(modelo2)\n",
        "tflite_model = converter.convert()\n",
        "\n",
        "\n",
        "open(\"sine_model.tflite\", \"wb\").write(tflite_model)\n",
        "\n",
        "\n",
        "converter = tf.lite.TFLiteConverter.from_keras_model(modelo2)\n",
        "\n",
        "\n",
        "converter.optimizations = [tf.lite.Optimize.DEFAULT]\n",
        "\n",
        "\n",
        "def representative_dataset_generator():\n",
        "  for value in x_test:\n",
        "\n",
        "    yield [np.array(value, dtype=np.float32, ndmin=2)]\n",
        "converter.representative_dataset = representative_dataset_generator\n",
        "\n",
        "tflite_model = converter.convert()\n",
        "\n",
        "\n",
        "open(\"sine_model_quantized.tflite\", \"wb\").write(tflite_model)\n"
      ],
      "metadata": {
        "id": "4gvzO7PEBB_x"
      },
      "execution_count": null,
      "outputs": []
    },
    {
      "cell_type": "markdown",
      "source": [
        "Para crear un modelo cuantificado que se ejecute de la manera más eficiente posible, debemos proporcionar un \"conjunto de datos representativo\", un conjunto de números que representan el rango completo de valores de entrada en el conjunto de datos en el que se entrenó el modelo.\n",
        "\n",
        "En la celda anterior, podemos usar los valores x de nuestro conjunto de datos de prueba como un conjunto de datos representativo. Definimos una función, represent_dataset_generator(), que usa el operador de rendimiento para devolverlos uno por uno."
      ],
      "metadata": {
        "id": "YF--WRsDJxmp"
      }
    },
    {
      "cell_type": "markdown",
      "source": [
        "**Probar los modelos convertidos**\n",
        "\n",
        "Para demostrar que estos modelos siguen siendo precisos después de la conversión y la cuantificación, los usaremos para hacer predicciones y compararlas con los resultados de nuestras pruebas:"
      ],
      "metadata": {
        "id": "xUwZZgTYJ5SQ"
      }
    },
    {
      "cell_type": "code",
      "source": [
        "#Instanciar un intérprete para cada modelo\n",
        "sine_model = tf.lite.Interpreter('sine_model.tflite')\n",
        "sine_model_quantized = tf.lite.Interpreter('sine_model_quantized.tflite')\n",
        "\n",
        "#Asignar memoria para cada modelo\n",
        "sine_model.allocate_tensors()\n",
        "sine_model_quantized.allocate_tensors()\n",
        "\n",
        "#Obtener índices de los tensores de entrada y salida\n",
        "sine_model_input_index = sine_model.get_input_details()[0][\"index\"]\n",
        "sine_model_output_index = sine_model.get_output_details()[0][\"index\"]\n",
        "sine_model_quantized_input_index = sine_model_quantized.get_input_details()[0][\"index\"]\n",
        "sine_model_quantized_output_index = sine_model_quantized.get_output_details()[0][\"index\"]\n",
        "\n",
        "# Crear matrices para almacenar los resultados\n",
        "sine_model_predictions = []\n",
        "sine_model_quantized_predictions = []\n",
        "\n",
        "# Ejecute el intérprete de cada modelo para cada valor y almacene los resultados en matrices\n",
        "\n",
        "for x_value in x_test:\n",
        "  x_value_tensor = tf.convert_to_tensor([[x_value]], dtype= np.float32)\n",
        "  sine_model.set_tensor(sine_model_input_index, x_value_tensor)\n",
        "  sine_model.invoke()\n",
        "  sine_model_predictions.append(sine_model.get_tensor(sine_model_output_index)[0])\n",
        "\n",
        "  sine_model_quantized.set_tensor(sine_model_quantized_input_index, x_value_tensor)\n",
        "  sine_model_quantized.invoke()\n",
        "  sine_model_quantized_predictions.append(sine_model_quantized.get_tensor(sine_model_quantized_output_index)[0])\n",
        "\n",
        "\n",
        "plt.clf()\n",
        "plt.rcParams[\"figure.figsize\"] = (20,14)\n",
        "plt.title('Comparacion entre el modelo normal y el cuantizado')\n",
        "plt.plot(x_test, y_test, 'bo', label='Actual')\n",
        "plt.plot(x_test, prediccion, 'ro', label='Prediccion original')\n",
        "plt.plot(x_test, sine_model_predictions, 'bx', label='Predicion lite')\n",
        "plt.plot(x_test, sine_model_quantized_predictions, 'gx', label='Predicion lite quantized')\n",
        "plt.legend()\n",
        "plt.show()\n",
        "\n",
        "\n"
      ],
      "metadata": {
        "id": "qkLKOz8PJAtw"
      },
      "execution_count": null,
      "outputs": []
    },
    {
      "cell_type": "markdown",
      "source": [
        "Podemos ver en el gráfico que las predicciones para el modelo original, el modelo convertido y el modelo cuantificado son lo suficientemente cercanas como para ser casi indistinguibles. ¡Esto significa que nuestro modelo cuantificado está listo para usar!\n",
        "\n",
        "Podemos imprimir la diferencia en el tamaño del archivo:"
      ],
      "metadata": {
        "id": "CoMrVOHT9Wyc"
      }
    },
    {
      "cell_type": "code",
      "source": [
        "import os\n",
        "basic_model_size = os.path.getsize(\"sine_model.tflite\")\n",
        "print(\"El modelo basico es de %d  bytes\" % basic_model_size)\n",
        "quantized_model_size = os.path.getsize(\"sine_model_quantized.tflite\")\n",
        "print(\"El modelo cuantizado es de %d bytes\" % quantized_model_size)\n",
        "diferencia = basic_model_size - quantized_model_size\n",
        "print(\"La diferencia es de %d bytes\" % diferencia)\n"
      ],
      "metadata": {
        "id": "ExiCZUXB9pWs"
      },
      "execution_count": null,
      "outputs": []
    },
    {
      "cell_type": "markdown",
      "source": [
        "Nuestro modelo cuantificado es 180 bytes más pequeño que la versión original, lo cual es genial, pero es solo una pequeña reducción de tamaño. Con alrededor de 2,7 kilobytes, este modelo ya es tan pequeño que los pesos representan una pequeña proporción del tamaño total, lo que significa que la cuantificación solo tiene un efecto pequeño.\n",
        "\n",
        "Los modelos más complejos tienen muchos más pesos, lo que significa que el ahorro de espacio de la cuantización será mucho mayor, acercándose a 4x para los modelos más sofisticados.\n",
        "\n",
        "Independientemente, nuestro modelo cuantizado tardará menos tiempo en ejecutarse que la versión original, ¡lo cual es importante en un microcontrolador diminuto!"
      ],
      "metadata": {
        "id": "GJ6MfJMv-1SQ"
      }
    },
    {
      "cell_type": "markdown",
      "source": [
        "**Escribir en un archivo C**\n",
        "\n",
        "El paso final en la preparación de nuestro modelo para usarlo con TensorFlow Lite para microcontroladores es convertirlo en un archivo fuente C. Puede ver un ejemplo de este formato en hello_world/sine_model_data.cc.\n",
        "\n",
        "Para hacerlo, podemos usar una utilidad de línea de comandos llamada xxd. La siguiente celda ejecuta xxd en nuestro modelo cuantificado e imprime la salida:"
      ],
      "metadata": {
        "id": "_sZVZ6Q1_A3d"
      }
    },
    {
      "cell_type": "code",
      "source": [
        "!apt-get -qq install xxd\n",
        "\n",
        "!xxd -i sine_model_quantized.tflite > sine_model_quantized.cc\n",
        "\n",
        "!cat sine_model_quantized.cc"
      ],
      "metadata": {
        "id": "AyKbisro_UiZ"
      },
      "execution_count": null,
      "outputs": []
    },
    {
      "cell_type": "markdown",
      "source": [
        "Podemos copiar y pegar este resultado en el código fuente de nuestro proyecto, o descargar el archivo usando el menú plegable en el lado izquierdo de este Colab."
      ],
      "metadata": {
        "id": "eZXLkXt5_69W"
      }
    }
  ]
}